{
 "cells": [
  {
   "cell_type": "markdown",
   "metadata": {},
   "source": [
    "# 1. INTRODUCTION\n",
    "\n",
    "**1.1 Indentity**\n",
    "- Name : Daniel Satria\n",
    "\n",
    "\n",
    "**1.2 Dataset Explanation**\n",
    "- The dataset consists of the medical information from people that likely have heart failure..\n",
    "\n",
    "\n",
    "**1.3 Objective**\n",
    "- Making machine learning model with Random Forest & Boosting.\n",
    "- Makng evaluation of the model.\n",
    "- Determining the hyper-parameter of the model.\n",
    "- Predict the class from data inference.\n",
    "- Drawing conclusion from overall project.\n",
    "\n",
    "**1.4 Notebook Disclaimer**\n",
    "- I will write the title/explanation first, then later the code.\n",
    "- The title means to explain what I do or try  to do with the code or to explain the output of the code itself."
   ]
  },
  {
   "cell_type": "markdown",
   "metadata": {},
   "source": [
    "___"
   ]
  },
  {
   "cell_type": "markdown",
   "metadata": {},
   "source": [
    "# 2. IMPORT LIBRARY"
   ]
  },
  {
   "cell_type": "code",
   "execution_count": 1,
   "metadata": {},
   "outputs": [],
   "source": [
    "import pandas as pd\n",
    "import seaborn as sns\n",
    "import numpy as np\n",
    "import matplotlib.pyplot as plt"
   ]
  },
  {
   "cell_type": "markdown",
   "metadata": {},
   "source": [
    "____"
   ]
  },
  {
   "cell_type": "markdown",
   "metadata": {},
   "source": [
    "# 3. DATA LOADING"
   ]
  },
  {
   "cell_type": "markdown",
   "metadata": {},
   "source": [
    "3.1 Loading dataset\n",
    "- Here I load the dataset that will be used for this GC3.\n",
    "- I also show the head and the tail of the dataset as shown below.\n"
   ]
  },
  {
   "cell_type": "code",
   "execution_count": 2,
   "metadata": {},
   "outputs": [
    {
     "data": {
      "text/html": [
       "<div>\n",
       "<style scoped>\n",
       "    .dataframe tbody tr th:only-of-type {\n",
       "        vertical-align: middle;\n",
       "    }\n",
       "\n",
       "    .dataframe tbody tr th {\n",
       "        vertical-align: top;\n",
       "    }\n",
       "\n",
       "    .dataframe thead th {\n",
       "        text-align: right;\n",
       "    }\n",
       "</style>\n",
       "<table border=\"1\" class=\"dataframe\">\n",
       "  <thead>\n",
       "    <tr style=\"text-align: right;\">\n",
       "      <th></th>\n",
       "      <th>age</th>\n",
       "      <th>anaemia</th>\n",
       "      <th>creatinine_phosphokinase</th>\n",
       "      <th>diabetes</th>\n",
       "      <th>ejection_fraction</th>\n",
       "      <th>high_blood_pressure</th>\n",
       "      <th>platelets</th>\n",
       "      <th>serum_creatinine</th>\n",
       "      <th>serum_sodium</th>\n",
       "      <th>sex</th>\n",
       "      <th>smoking</th>\n",
       "      <th>time</th>\n",
       "      <th>DEATH_EVENT</th>\n",
       "    </tr>\n",
       "  </thead>\n",
       "  <tbody>\n",
       "    <tr>\n",
       "      <th>0</th>\n",
       "      <td>42.0</td>\n",
       "      <td>1</td>\n",
       "      <td>250</td>\n",
       "      <td>1</td>\n",
       "      <td>15</td>\n",
       "      <td>0</td>\n",
       "      <td>213000.0</td>\n",
       "      <td>1.3</td>\n",
       "      <td>136</td>\n",
       "      <td>0</td>\n",
       "      <td>0</td>\n",
       "      <td>65</td>\n",
       "      <td>1</td>\n",
       "    </tr>\n",
       "    <tr>\n",
       "      <th>1</th>\n",
       "      <td>46.0</td>\n",
       "      <td>0</td>\n",
       "      <td>168</td>\n",
       "      <td>1</td>\n",
       "      <td>17</td>\n",
       "      <td>1</td>\n",
       "      <td>271000.0</td>\n",
       "      <td>2.1</td>\n",
       "      <td>124</td>\n",
       "      <td>0</td>\n",
       "      <td>0</td>\n",
       "      <td>100</td>\n",
       "      <td>1</td>\n",
       "    </tr>\n",
       "    <tr>\n",
       "      <th>2</th>\n",
       "      <td>65.0</td>\n",
       "      <td>1</td>\n",
       "      <td>160</td>\n",
       "      <td>1</td>\n",
       "      <td>20</td>\n",
       "      <td>0</td>\n",
       "      <td>327000.0</td>\n",
       "      <td>2.7</td>\n",
       "      <td>116</td>\n",
       "      <td>0</td>\n",
       "      <td>0</td>\n",
       "      <td>8</td>\n",
       "      <td>1</td>\n",
       "    </tr>\n",
       "    <tr>\n",
       "      <th>3</th>\n",
       "      <td>53.0</td>\n",
       "      <td>1</td>\n",
       "      <td>91</td>\n",
       "      <td>0</td>\n",
       "      <td>20</td>\n",
       "      <td>1</td>\n",
       "      <td>418000.0</td>\n",
       "      <td>1.4</td>\n",
       "      <td>139</td>\n",
       "      <td>0</td>\n",
       "      <td>0</td>\n",
       "      <td>43</td>\n",
       "      <td>1</td>\n",
       "    </tr>\n",
       "    <tr>\n",
       "      <th>4</th>\n",
       "      <td>50.0</td>\n",
       "      <td>1</td>\n",
       "      <td>582</td>\n",
       "      <td>1</td>\n",
       "      <td>20</td>\n",
       "      <td>1</td>\n",
       "      <td>279000.0</td>\n",
       "      <td>1.0</td>\n",
       "      <td>134</td>\n",
       "      <td>0</td>\n",
       "      <td>0</td>\n",
       "      <td>186</td>\n",
       "      <td>0</td>\n",
       "    </tr>\n",
       "  </tbody>\n",
       "</table>\n",
       "</div>"
      ],
      "text/plain": [
       "    age  anaemia  creatinine_phosphokinase  diabetes  ejection_fraction  \\\n",
       "0  42.0        1                       250         1                 15   \n",
       "1  46.0        0                       168         1                 17   \n",
       "2  65.0        1                       160         1                 20   \n",
       "3  53.0        1                        91         0                 20   \n",
       "4  50.0        1                       582         1                 20   \n",
       "\n",
       "   high_blood_pressure  platelets  serum_creatinine  serum_sodium  sex  \\\n",
       "0                    0   213000.0               1.3           136    0   \n",
       "1                    1   271000.0               2.1           124    0   \n",
       "2                    0   327000.0               2.7           116    0   \n",
       "3                    1   418000.0               1.4           139    0   \n",
       "4                    1   279000.0               1.0           134    0   \n",
       "\n",
       "   smoking  time  DEATH_EVENT  \n",
       "0        0    65            1  \n",
       "1        0   100            1  \n",
       "2        0     8            1  \n",
       "3        0    43            1  \n",
       "4        0   186            0  "
      ]
     },
     "execution_count": 2,
     "metadata": {},
     "output_type": "execute_result"
    }
   ],
   "source": [
    "df = pd.read_csv('h8dsft_P1G3_daniel_satria.csv')\n",
    "df.head()"
   ]
  },
  {
   "cell_type": "code",
   "execution_count": 3,
   "metadata": {},
   "outputs": [
    {
     "data": {
      "text/html": [
       "<div>\n",
       "<style scoped>\n",
       "    .dataframe tbody tr th:only-of-type {\n",
       "        vertical-align: middle;\n",
       "    }\n",
       "\n",
       "    .dataframe tbody tr th {\n",
       "        vertical-align: top;\n",
       "    }\n",
       "\n",
       "    .dataframe thead th {\n",
       "        text-align: right;\n",
       "    }\n",
       "</style>\n",
       "<table border=\"1\" class=\"dataframe\">\n",
       "  <thead>\n",
       "    <tr style=\"text-align: right;\">\n",
       "      <th></th>\n",
       "      <th>age</th>\n",
       "      <th>anaemia</th>\n",
       "      <th>creatinine_phosphokinase</th>\n",
       "      <th>diabetes</th>\n",
       "      <th>ejection_fraction</th>\n",
       "      <th>high_blood_pressure</th>\n",
       "      <th>platelets</th>\n",
       "      <th>serum_creatinine</th>\n",
       "      <th>serum_sodium</th>\n",
       "      <th>sex</th>\n",
       "      <th>smoking</th>\n",
       "      <th>time</th>\n",
       "      <th>DEATH_EVENT</th>\n",
       "    </tr>\n",
       "  </thead>\n",
       "  <tbody>\n",
       "    <tr>\n",
       "      <th>294</th>\n",
       "      <td>63.0</td>\n",
       "      <td>1</td>\n",
       "      <td>122</td>\n",
       "      <td>1</td>\n",
       "      <td>60</td>\n",
       "      <td>0</td>\n",
       "      <td>267000.00</td>\n",
       "      <td>1.2</td>\n",
       "      <td>145</td>\n",
       "      <td>1</td>\n",
       "      <td>0</td>\n",
       "      <td>147</td>\n",
       "      <td>0</td>\n",
       "    </tr>\n",
       "    <tr>\n",
       "      <th>295</th>\n",
       "      <td>45.0</td>\n",
       "      <td>0</td>\n",
       "      <td>308</td>\n",
       "      <td>1</td>\n",
       "      <td>60</td>\n",
       "      <td>1</td>\n",
       "      <td>377000.00</td>\n",
       "      <td>1.0</td>\n",
       "      <td>136</td>\n",
       "      <td>1</td>\n",
       "      <td>0</td>\n",
       "      <td>186</td>\n",
       "      <td>0</td>\n",
       "    </tr>\n",
       "    <tr>\n",
       "      <th>296</th>\n",
       "      <td>70.0</td>\n",
       "      <td>0</td>\n",
       "      <td>97</td>\n",
       "      <td>0</td>\n",
       "      <td>60</td>\n",
       "      <td>1</td>\n",
       "      <td>220000.00</td>\n",
       "      <td>0.9</td>\n",
       "      <td>138</td>\n",
       "      <td>1</td>\n",
       "      <td>0</td>\n",
       "      <td>186</td>\n",
       "      <td>0</td>\n",
       "    </tr>\n",
       "    <tr>\n",
       "      <th>297</th>\n",
       "      <td>53.0</td>\n",
       "      <td>1</td>\n",
       "      <td>446</td>\n",
       "      <td>0</td>\n",
       "      <td>60</td>\n",
       "      <td>1</td>\n",
       "      <td>263358.03</td>\n",
       "      <td>1.0</td>\n",
       "      <td>139</td>\n",
       "      <td>1</td>\n",
       "      <td>0</td>\n",
       "      <td>215</td>\n",
       "      <td>0</td>\n",
       "    </tr>\n",
       "    <tr>\n",
       "      <th>298</th>\n",
       "      <td>50.0</td>\n",
       "      <td>0</td>\n",
       "      <td>582</td>\n",
       "      <td>0</td>\n",
       "      <td>62</td>\n",
       "      <td>1</td>\n",
       "      <td>147000.00</td>\n",
       "      <td>0.8</td>\n",
       "      <td>140</td>\n",
       "      <td>1</td>\n",
       "      <td>1</td>\n",
       "      <td>192</td>\n",
       "      <td>0</td>\n",
       "    </tr>\n",
       "  </tbody>\n",
       "</table>\n",
       "</div>"
      ],
      "text/plain": [
       "      age  anaemia  creatinine_phosphokinase  diabetes  ejection_fraction  \\\n",
       "294  63.0        1                       122         1                 60   \n",
       "295  45.0        0                       308         1                 60   \n",
       "296  70.0        0                        97         0                 60   \n",
       "297  53.0        1                       446         0                 60   \n",
       "298  50.0        0                       582         0                 62   \n",
       "\n",
       "     high_blood_pressure  platelets  serum_creatinine  serum_sodium  sex  \\\n",
       "294                    0  267000.00               1.2           145    1   \n",
       "295                    1  377000.00               1.0           136    1   \n",
       "296                    1  220000.00               0.9           138    1   \n",
       "297                    1  263358.03               1.0           139    1   \n",
       "298                    1  147000.00               0.8           140    1   \n",
       "\n",
       "     smoking  time  DEATH_EVENT  \n",
       "294        0   147            0  \n",
       "295        0   186            0  \n",
       "296        0   186            0  \n",
       "297        0   215            0  \n",
       "298        1   192            0  "
      ]
     },
     "execution_count": 3,
     "metadata": {},
     "output_type": "execute_result"
    }
   ],
   "source": [
    "df.tail()"
   ]
  },
  {
   "cell_type": "markdown",
   "metadata": {},
   "source": [
    "____"
   ]
  },
  {
   "cell_type": "markdown",
   "metadata": {},
   "source": [
    "# 4. Exploratory Data Analysis / EDA"
   ]
  },
  {
   "cell_type": "markdown",
   "metadata": {},
   "source": [
    "4.1 Dataset shape\n",
    "- There are 299 rows and 13 columns in our dataset."
   ]
  },
  {
   "cell_type": "code",
   "execution_count": 4,
   "metadata": {},
   "outputs": [
    {
     "data": {
      "text/plain": [
       "(299, 13)"
      ]
     },
     "execution_count": 4,
     "metadata": {},
     "output_type": "execute_result"
    }
   ],
   "source": [
    "df.shape"
   ]
  },
  {
   "cell_type": "markdown",
   "metadata": {},
   "source": [
    "4.2 Checking missing value\n",
    "- There is no missing value in our dataset."
   ]
  },
  {
   "cell_type": "code",
   "execution_count": 5,
   "metadata": {},
   "outputs": [
    {
     "data": {
      "text/plain": [
       "0"
      ]
     },
     "execution_count": 5,
     "metadata": {},
     "output_type": "execute_result"
    }
   ],
   "source": [
    "np.isnan(df).any().sum()"
   ]
  },
  {
   "cell_type": "markdown",
   "metadata": {},
   "source": [
    "4.3 Taking data inference\n",
    "- Here I take one row as our data inference.\n",
    "- Before taking the data, we assign the random seed so we can call the exact same data later.\n",
    "- We got the data from index 138 as our data inference."
   ]
  },
  {
   "cell_type": "code",
   "execution_count": 6,
   "metadata": {},
   "outputs": [
    {
     "data": {
      "text/html": [
       "<div>\n",
       "<style scoped>\n",
       "    .dataframe tbody tr th:only-of-type {\n",
       "        vertical-align: middle;\n",
       "    }\n",
       "\n",
       "    .dataframe tbody tr th {\n",
       "        vertical-align: top;\n",
       "    }\n",
       "\n",
       "    .dataframe thead th {\n",
       "        text-align: right;\n",
       "    }\n",
       "</style>\n",
       "<table border=\"1\" class=\"dataframe\">\n",
       "  <thead>\n",
       "    <tr style=\"text-align: right;\">\n",
       "      <th></th>\n",
       "      <th>age</th>\n",
       "      <th>anaemia</th>\n",
       "      <th>creatinine_phosphokinase</th>\n",
       "      <th>diabetes</th>\n",
       "      <th>ejection_fraction</th>\n",
       "      <th>high_blood_pressure</th>\n",
       "      <th>platelets</th>\n",
       "      <th>serum_creatinine</th>\n",
       "      <th>serum_sodium</th>\n",
       "      <th>sex</th>\n",
       "      <th>smoking</th>\n",
       "      <th>time</th>\n",
       "      <th>DEATH_EVENT</th>\n",
       "    </tr>\n",
       "  </thead>\n",
       "  <tbody>\n",
       "    <tr>\n",
       "      <th>138</th>\n",
       "      <td>50.0</td>\n",
       "      <td>0</td>\n",
       "      <td>250</td>\n",
       "      <td>0</td>\n",
       "      <td>25</td>\n",
       "      <td>0</td>\n",
       "      <td>262000.0</td>\n",
       "      <td>1.0</td>\n",
       "      <td>136</td>\n",
       "      <td>1</td>\n",
       "      <td>1</td>\n",
       "      <td>120</td>\n",
       "      <td>0</td>\n",
       "    </tr>\n",
       "  </tbody>\n",
       "</table>\n",
       "</div>"
      ],
      "text/plain": [
       "      age  anaemia  creatinine_phosphokinase  diabetes  ejection_fraction  \\\n",
       "138  50.0        0                       250         0                 25   \n",
       "\n",
       "     high_blood_pressure  platelets  serum_creatinine  serum_sodium  sex  \\\n",
       "138                    0   262000.0               1.0           136    1   \n",
       "\n",
       "     smoking  time  DEATH_EVENT  \n",
       "138        1   120            0  "
      ]
     },
     "execution_count": 6,
     "metadata": {},
     "output_type": "execute_result"
    }
   ],
   "source": [
    "# assign random seed, so the data inf won't be generated all over again whenever we call it\n",
    "np.random.seed(9834)\n",
    "\n",
    "# taking the 1 data inference from our dataset\n",
    "data_inf = df.sample(1)\n",
    "data_inf"
   ]
  },
  {
   "cell_type": "markdown",
   "metadata": {},
   "source": [
    "4.4 Dropping data inference from original dataset\n",
    "- Dropping the data inference from the original dataset, so later the model can predict the brand new data.\n",
    "- Now, our total dataset have 298 rows."
   ]
  },
  {
   "cell_type": "code",
   "execution_count": 7,
   "metadata": {},
   "outputs": [
    {
     "data": {
      "text/plain": [
       "(298, 13)"
      ]
     },
     "execution_count": 7,
     "metadata": {},
     "output_type": "execute_result"
    }
   ],
   "source": [
    "df.drop(index=data_inf.index, inplace=True)\n",
    "df.shape"
   ]
  },
  {
   "cell_type": "markdown",
   "metadata": {},
   "source": [
    "4.5 Spliting data train and test\n",
    "- To prevent the leakage of the data, I decide to split the data early in this step.\n",
    "- So, the model will do optimized work and we also can understand how much the precision of our model.\n",
    "- Our data train now consist of 238 rows."
   ]
  },
  {
   "cell_type": "code",
   "execution_count": 8,
   "metadata": {},
   "outputs": [
    {
     "name": "stdout",
     "output_type": "stream",
     "text": [
      "The new shape of our data train is  (238, 13)\n"
     ]
    },
    {
     "data": {
      "text/html": [
       "<div>\n",
       "<style scoped>\n",
       "    .dataframe tbody tr th:only-of-type {\n",
       "        vertical-align: middle;\n",
       "    }\n",
       "\n",
       "    .dataframe tbody tr th {\n",
       "        vertical-align: top;\n",
       "    }\n",
       "\n",
       "    .dataframe thead th {\n",
       "        text-align: right;\n",
       "    }\n",
       "</style>\n",
       "<table border=\"1\" class=\"dataframe\">\n",
       "  <thead>\n",
       "    <tr style=\"text-align: right;\">\n",
       "      <th></th>\n",
       "      <th>age</th>\n",
       "      <th>anaemia</th>\n",
       "      <th>creatinine_phosphokinase</th>\n",
       "      <th>diabetes</th>\n",
       "      <th>ejection_fraction</th>\n",
       "      <th>high_blood_pressure</th>\n",
       "      <th>platelets</th>\n",
       "      <th>serum_creatinine</th>\n",
       "      <th>serum_sodium</th>\n",
       "      <th>sex</th>\n",
       "      <th>smoking</th>\n",
       "      <th>time</th>\n",
       "      <th>DEATH_EVENT</th>\n",
       "    </tr>\n",
       "  </thead>\n",
       "  <tbody>\n",
       "    <tr>\n",
       "      <th>144</th>\n",
       "      <td>58.0</td>\n",
       "      <td>0</td>\n",
       "      <td>582</td>\n",
       "      <td>1</td>\n",
       "      <td>25</td>\n",
       "      <td>0</td>\n",
       "      <td>504000.0</td>\n",
       "      <td>1.0</td>\n",
       "      <td>138</td>\n",
       "      <td>1</td>\n",
       "      <td>0</td>\n",
       "      <td>205</td>\n",
       "      <td>0</td>\n",
       "    </tr>\n",
       "    <tr>\n",
       "      <th>58</th>\n",
       "      <td>50.0</td>\n",
       "      <td>0</td>\n",
       "      <td>318</td>\n",
       "      <td>0</td>\n",
       "      <td>40</td>\n",
       "      <td>1</td>\n",
       "      <td>216000.0</td>\n",
       "      <td>2.3</td>\n",
       "      <td>131</td>\n",
       "      <td>0</td>\n",
       "      <td>0</td>\n",
       "      <td>60</td>\n",
       "      <td>1</td>\n",
       "    </tr>\n",
       "    <tr>\n",
       "      <th>289</th>\n",
       "      <td>64.0</td>\n",
       "      <td>0</td>\n",
       "      <td>1610</td>\n",
       "      <td>0</td>\n",
       "      <td>60</td>\n",
       "      <td>0</td>\n",
       "      <td>242000.0</td>\n",
       "      <td>1.0</td>\n",
       "      <td>137</td>\n",
       "      <td>1</td>\n",
       "      <td>0</td>\n",
       "      <td>113</td>\n",
       "      <td>0</td>\n",
       "    </tr>\n",
       "    <tr>\n",
       "      <th>97</th>\n",
       "      <td>64.0</td>\n",
       "      <td>1</td>\n",
       "      <td>62</td>\n",
       "      <td>0</td>\n",
       "      <td>60</td>\n",
       "      <td>0</td>\n",
       "      <td>309000.0</td>\n",
       "      <td>1.5</td>\n",
       "      <td>135</td>\n",
       "      <td>0</td>\n",
       "      <td>0</td>\n",
       "      <td>174</td>\n",
       "      <td>0</td>\n",
       "    </tr>\n",
       "    <tr>\n",
       "      <th>50</th>\n",
       "      <td>65.0</td>\n",
       "      <td>0</td>\n",
       "      <td>326</td>\n",
       "      <td>0</td>\n",
       "      <td>38</td>\n",
       "      <td>0</td>\n",
       "      <td>294000.0</td>\n",
       "      <td>1.7</td>\n",
       "      <td>139</td>\n",
       "      <td>0</td>\n",
       "      <td>0</td>\n",
       "      <td>220</td>\n",
       "      <td>0</td>\n",
       "    </tr>\n",
       "  </tbody>\n",
       "</table>\n",
       "</div>"
      ],
      "text/plain": [
       "      age  anaemia  creatinine_phosphokinase  diabetes  ejection_fraction  \\\n",
       "144  58.0        0                       582         1                 25   \n",
       "58   50.0        0                       318         0                 40   \n",
       "289  64.0        0                      1610         0                 60   \n",
       "97   64.0        1                        62         0                 60   \n",
       "50   65.0        0                       326         0                 38   \n",
       "\n",
       "     high_blood_pressure  platelets  serum_creatinine  serum_sodium  sex  \\\n",
       "144                    0   504000.0               1.0           138    1   \n",
       "58                     1   216000.0               2.3           131    0   \n",
       "289                    0   242000.0               1.0           137    1   \n",
       "97                     0   309000.0               1.5           135    0   \n",
       "50                     0   294000.0               1.7           139    0   \n",
       "\n",
       "     smoking  time  DEATH_EVENT  \n",
       "144        0   205            0  \n",
       "58         0    60            1  \n",
       "289        0   113            0  \n",
       "97         0   174            0  \n",
       "50         0   220            0  "
      ]
     },
     "execution_count": 8,
     "metadata": {},
     "output_type": "execute_result"
    }
   ],
   "source": [
    "from sklearn.model_selection import train_test_split\n",
    "\n",
    "#splitting the data train and test\n",
    "data_train, data_test  = train_test_split(df, train_size=0.8, random_state=3397, stratify=df['DEATH_EVENT'])\n",
    "print('The new shape of our data train is ', data_train.shape)\n",
    "data_train.head()"
   ]
  },
  {
   "cell_type": "markdown",
   "metadata": {},
   "source": [
    "4.6 Checking duplicated data\n",
    "- We don't have any dulicated data in the dataset."
   ]
  },
  {
   "cell_type": "code",
   "execution_count": 9,
   "metadata": {},
   "outputs": [
    {
     "data": {
      "text/plain": [
       "0"
      ]
     },
     "execution_count": 9,
     "metadata": {},
     "output_type": "execute_result"
    }
   ],
   "source": [
    "data_train.duplicated().sum()"
   ]
  },
  {
   "cell_type": "markdown",
   "metadata": {},
   "source": [
    "4.7 Insight from describe\n",
    "- We can conclude there are 4 columns category in our dataset : anaemia, diabetes, high_blood_pressure, sex, smoking."
   ]
  },
  {
   "cell_type": "code",
   "execution_count": 10,
   "metadata": {},
   "outputs": [
    {
     "data": {
      "text/html": [
       "<div>\n",
       "<style scoped>\n",
       "    .dataframe tbody tr th:only-of-type {\n",
       "        vertical-align: middle;\n",
       "    }\n",
       "\n",
       "    .dataframe tbody tr th {\n",
       "        vertical-align: top;\n",
       "    }\n",
       "\n",
       "    .dataframe thead th {\n",
       "        text-align: right;\n",
       "    }\n",
       "</style>\n",
       "<table border=\"1\" class=\"dataframe\">\n",
       "  <thead>\n",
       "    <tr style=\"text-align: right;\">\n",
       "      <th></th>\n",
       "      <th>count</th>\n",
       "      <th>mean</th>\n",
       "      <th>std</th>\n",
       "      <th>min</th>\n",
       "      <th>25%</th>\n",
       "      <th>50%</th>\n",
       "      <th>75%</th>\n",
       "      <th>max</th>\n",
       "    </tr>\n",
       "  </thead>\n",
       "  <tbody>\n",
       "    <tr>\n",
       "      <th>age</th>\n",
       "      <td>238.0</td>\n",
       "      <td>61.376752</td>\n",
       "      <td>11.853239</td>\n",
       "      <td>40.0</td>\n",
       "      <td>52.00</td>\n",
       "      <td>60.000</td>\n",
       "      <td>70.00</td>\n",
       "      <td>95.0</td>\n",
       "    </tr>\n",
       "    <tr>\n",
       "      <th>anaemia</th>\n",
       "      <td>238.0</td>\n",
       "      <td>0.449580</td>\n",
       "      <td>0.498500</td>\n",
       "      <td>0.0</td>\n",
       "      <td>0.00</td>\n",
       "      <td>0.000</td>\n",
       "      <td>1.00</td>\n",
       "      <td>1.0</td>\n",
       "    </tr>\n",
       "    <tr>\n",
       "      <th>creatinine_phosphokinase</th>\n",
       "      <td>238.0</td>\n",
       "      <td>513.995798</td>\n",
       "      <td>850.526496</td>\n",
       "      <td>23.0</td>\n",
       "      <td>111.25</td>\n",
       "      <td>227.500</td>\n",
       "      <td>582.00</td>\n",
       "      <td>7861.0</td>\n",
       "    </tr>\n",
       "    <tr>\n",
       "      <th>diabetes</th>\n",
       "      <td>238.0</td>\n",
       "      <td>0.403361</td>\n",
       "      <td>0.491606</td>\n",
       "      <td>0.0</td>\n",
       "      <td>0.00</td>\n",
       "      <td>0.000</td>\n",
       "      <td>1.00</td>\n",
       "      <td>1.0</td>\n",
       "    </tr>\n",
       "    <tr>\n",
       "      <th>ejection_fraction</th>\n",
       "      <td>238.0</td>\n",
       "      <td>37.697479</td>\n",
       "      <td>11.275645</td>\n",
       "      <td>15.0</td>\n",
       "      <td>30.00</td>\n",
       "      <td>38.000</td>\n",
       "      <td>45.00</td>\n",
       "      <td>70.0</td>\n",
       "    </tr>\n",
       "    <tr>\n",
       "      <th>high_blood_pressure</th>\n",
       "      <td>238.0</td>\n",
       "      <td>0.373950</td>\n",
       "      <td>0.484870</td>\n",
       "      <td>0.0</td>\n",
       "      <td>0.00</td>\n",
       "      <td>0.000</td>\n",
       "      <td>1.00</td>\n",
       "      <td>1.0</td>\n",
       "    </tr>\n",
       "    <tr>\n",
       "      <th>platelets</th>\n",
       "      <td>238.0</td>\n",
       "      <td>263347.137101</td>\n",
       "      <td>99618.119399</td>\n",
       "      <td>25100.0</td>\n",
       "      <td>211250.00</td>\n",
       "      <td>263179.015</td>\n",
       "      <td>302000.00</td>\n",
       "      <td>850000.0</td>\n",
       "    </tr>\n",
       "    <tr>\n",
       "      <th>serum_creatinine</th>\n",
       "      <td>238.0</td>\n",
       "      <td>1.380504</td>\n",
       "      <td>0.933643</td>\n",
       "      <td>0.5</td>\n",
       "      <td>0.90</td>\n",
       "      <td>1.100</td>\n",
       "      <td>1.50</td>\n",
       "      <td>9.0</td>\n",
       "    </tr>\n",
       "    <tr>\n",
       "      <th>serum_sodium</th>\n",
       "      <td>238.0</td>\n",
       "      <td>136.663866</td>\n",
       "      <td>4.267980</td>\n",
       "      <td>113.0</td>\n",
       "      <td>134.00</td>\n",
       "      <td>137.000</td>\n",
       "      <td>139.00</td>\n",
       "      <td>148.0</td>\n",
       "    </tr>\n",
       "    <tr>\n",
       "      <th>sex</th>\n",
       "      <td>238.0</td>\n",
       "      <td>0.651261</td>\n",
       "      <td>0.477576</td>\n",
       "      <td>0.0</td>\n",
       "      <td>0.00</td>\n",
       "      <td>1.000</td>\n",
       "      <td>1.00</td>\n",
       "      <td>1.0</td>\n",
       "    </tr>\n",
       "    <tr>\n",
       "      <th>smoking</th>\n",
       "      <td>238.0</td>\n",
       "      <td>0.331933</td>\n",
       "      <td>0.471899</td>\n",
       "      <td>0.0</td>\n",
       "      <td>0.00</td>\n",
       "      <td>0.000</td>\n",
       "      <td>1.00</td>\n",
       "      <td>1.0</td>\n",
       "    </tr>\n",
       "    <tr>\n",
       "      <th>time</th>\n",
       "      <td>238.0</td>\n",
       "      <td>130.109244</td>\n",
       "      <td>77.455994</td>\n",
       "      <td>4.0</td>\n",
       "      <td>73.25</td>\n",
       "      <td>112.500</td>\n",
       "      <td>200.75</td>\n",
       "      <td>285.0</td>\n",
       "    </tr>\n",
       "    <tr>\n",
       "      <th>DEATH_EVENT</th>\n",
       "      <td>238.0</td>\n",
       "      <td>0.323529</td>\n",
       "      <td>0.468809</td>\n",
       "      <td>0.0</td>\n",
       "      <td>0.00</td>\n",
       "      <td>0.000</td>\n",
       "      <td>1.00</td>\n",
       "      <td>1.0</td>\n",
       "    </tr>\n",
       "  </tbody>\n",
       "</table>\n",
       "</div>"
      ],
      "text/plain": [
       "                          count           mean           std      min  \\\n",
       "age                       238.0      61.376752     11.853239     40.0   \n",
       "anaemia                   238.0       0.449580      0.498500      0.0   \n",
       "creatinine_phosphokinase  238.0     513.995798    850.526496     23.0   \n",
       "diabetes                  238.0       0.403361      0.491606      0.0   \n",
       "ejection_fraction         238.0      37.697479     11.275645     15.0   \n",
       "high_blood_pressure       238.0       0.373950      0.484870      0.0   \n",
       "platelets                 238.0  263347.137101  99618.119399  25100.0   \n",
       "serum_creatinine          238.0       1.380504      0.933643      0.5   \n",
       "serum_sodium              238.0     136.663866      4.267980    113.0   \n",
       "sex                       238.0       0.651261      0.477576      0.0   \n",
       "smoking                   238.0       0.331933      0.471899      0.0   \n",
       "time                      238.0     130.109244     77.455994      4.0   \n",
       "DEATH_EVENT               238.0       0.323529      0.468809      0.0   \n",
       "\n",
       "                                25%         50%        75%       max  \n",
       "age                           52.00      60.000      70.00      95.0  \n",
       "anaemia                        0.00       0.000       1.00       1.0  \n",
       "creatinine_phosphokinase     111.25     227.500     582.00    7861.0  \n",
       "diabetes                       0.00       0.000       1.00       1.0  \n",
       "ejection_fraction             30.00      38.000      45.00      70.0  \n",
       "high_blood_pressure            0.00       0.000       1.00       1.0  \n",
       "platelets                 211250.00  263179.015  302000.00  850000.0  \n",
       "serum_creatinine               0.90       1.100       1.50       9.0  \n",
       "serum_sodium                 134.00     137.000     139.00     148.0  \n",
       "sex                            0.00       1.000       1.00       1.0  \n",
       "smoking                        0.00       0.000       1.00       1.0  \n",
       "time                          73.25     112.500     200.75     285.0  \n",
       "DEATH_EVENT                    0.00       0.000       1.00       1.0  "
      ]
     },
     "execution_count": 10,
     "metadata": {},
     "output_type": "execute_result"
    }
   ],
   "source": [
    "data_train.describe().T"
   ]
  },
  {
   "cell_type": "markdown",
   "metadata": {},
   "source": [
    "4.8 Check unique values in category columns\n",
    "- There are two values in every category columns.\n",
    "- And, all of them have been encoded in ordinal way, 0 and 1."
   ]
  },
  {
   "cell_type": "code",
   "execution_count": 11,
   "metadata": {},
   "outputs": [
    {
     "name": "stdout",
     "output_type": "stream",
     "text": [
      "- anaemia unique variables : [0 1]\n",
      "==============================================================================================================\n",
      "- diabetes unique variables : [1 0]\n",
      "==============================================================================================================\n",
      "- high_blood_pressure unique variables : [0 1]\n",
      "==============================================================================================================\n",
      "- sex unique variables : [1 0]\n",
      "==============================================================================================================\n",
      "- smoking unique variables : [0 1]\n"
     ]
    }
   ],
   "source": [
    "print('- anaemia unique variables :', data_train['anaemia'].unique())\n",
    "print('='*110)\n",
    "print('- diabetes unique variables :', data_train['diabetes'].unique())\n",
    "print('='*110)\n",
    "print('- high_blood_pressure unique variables :', data_train['high_blood_pressure'].unique())\n",
    "print('='*110)\n",
    "print('- sex unique variables :', data_train['sex'].unique())\n",
    "print('='*110)\n",
    "print('- smoking unique variables :', data_train['smoking'].unique())"
   ]
  },
  {
   "cell_type": "markdown",
   "metadata": {},
   "source": [
    "4.9 Insight from age and category columns\n",
    "- The distribution of the age is a bit right-skew.\n",
    "- This dataset have majority of Age 60-70.\n",
    "- In every column, class 0 has higher total amount than 1.\n",
    "- It seems we have the imbalance class of the target.\n",
    "- Total people who don't have anaemia, diabetes, high blood pressure and smoking are higher than the people who have it. \n",
    "- The people that sex class 1 are higher than 0."
   ]
  },
  {
   "cell_type": "code",
   "execution_count": 12,
   "metadata": {},
   "outputs": [
    {
     "data": {
      "text/plain": [
       "<AxesSubplot:xlabel='smoking', ylabel='count'>"
      ]
     },
     "execution_count": 12,
     "metadata": {},
     "output_type": "execute_result"
    },
    {
     "data": {
      "image/png": "[encoded data removed]",
      "text/plain": [
       "<Figure size 1296x576 with 6 Axes>"
      ]
     },
     "metadata": {},
     "output_type": "display_data"
    }
   ],
   "source": [
    "sns.set_style('darkgrid')\n",
    "\n",
    "fig, ax = plt.subplots(2, 3, figsize=(18, 8))\n",
    "sns.histplot(data=data_train, x='age', kde=True, bins=30, ax=ax[0, 0])\n",
    "sns.countplot(data=data_train, x='anaemia', hue='DEATH_EVENT', ax=ax[0, 1])\n",
    "sns.countplot(data=data_train, x='diabetes', hue='DEATH_EVENT', ax=ax[0, 2])\n",
    "sns.countplot(data=data_train, x='high_blood_pressure', hue='DEATH_EVENT', ax=ax[1, 0])\n",
    "sns.countplot(data=data_train, x='sex', hue='DEATH_EVENT', ax=ax[1, 1])\n",
    "sns.countplot(data=data_train, x='smoking', hue='DEATH_EVENT', ax=ax[1, 2])"
   ]
  },
  {
   "cell_type": "markdown",
   "metadata": {},
   "source": [
    "4.10 Insight creatinine_phosphokinase, platelets, ejection_fraction, serum_creatinine & target.\n",
    "- Some of the people that have extrene high amount of creatinine_phosphokinase, creatinine_phosphokinase, serum_sodium is likely to have class 1 of the target (DEATH_EVENT).\n",
    "- It seems there columns have correlation with the target."
   ]
  },
  {
   "cell_type": "code",
   "execution_count": 13,
   "metadata": {},
   "outputs": [
    {
     "data": {
      "text/plain": [
       "<AxesSubplot:xlabel='platelets', ylabel='creatinine_phosphokinase'>"
      ]
     },
     "execution_count": 13,
     "metadata": {},
     "output_type": "execute_result"
    },
    {
     "data": {
      "image/png": "[encoded data removed]",
      "text/plain": [
       "<Figure size 1296x720 with 4 Axes>"
      ]
     },
     "metadata": {},
     "output_type": "display_data"
    }
   ],
   "source": [
    "fig, ax = plt.subplots(2, 2, figsize=(18, 10))\n",
    "sns.scatterplot(data=data_train, x='creatinine_phosphokinase', y='platelets', hue='DEATH_EVENT', ax=ax[0,0], alpha=0.7)\n",
    "sns.scatterplot(data=data_train, x='platelets', y='ejection_fraction', hue='DEATH_EVENT', ax=ax[0,1], alpha=0.7)\n",
    "sns.scatterplot(data=data_train, x='serum_sodium', y='serum_creatinine', hue='DEATH_EVENT', ax=ax[1,0], alpha=0.7)\n",
    "sns.scatterplot(data=data_train, x='platelets', y='creatinine_phosphokinase', hue='DEATH_EVENT', ax=ax[1,1], alpha=0.7)"
   ]
  },
  {
   "cell_type": "markdown",
   "metadata": {},
   "source": [
    "4.11 Data distribution of creatinine_phosphokinase\n",
    "- If we plot it using histogram and boxplot, it seems there are some outliers there.\n",
    "- However, since this is a medical number we need to research further.\n",
    "- Based on medical reference, dangeous amount of creatinine_phosphokinase are 5000 micrograms per liter (mcg/L).\n",
    "- Since this a medial report, I won't handle the outliers and leave it as it is."
   ]
  },
  {
   "cell_type": "code",
   "execution_count": 14,
   "metadata": {},
   "outputs": [
    {
     "data": {
      "image/png": "[encoded data removed]",
      "text/plain": [
       "<Figure size 1080x360 with 2 Axes>"
      ]
     },
     "metadata": {},
     "output_type": "display_data"
    },
    {
     "name": "stdout",
     "output_type": "stream",
     "text": [
      "creatinine_phosphokinase Kurtosis: 32.180593965802444\n",
      "creatinine_phosphokinase Skewness: 4.915596232282637\n",
      "Columns 'creatinine_phosphokinase' is right skewed\n"
     ]
    }
   ],
   "source": [
    "#making function for plotting the distribution of the data\n",
    "def plot_dist(df, col):\n",
    "    fig, axes = plt.subplots(ncols = 2, figsize = (15, 5))\n",
    "    \n",
    "    # histogram\n",
    "    sns.histplot(df[col],ax = axes[0], bins=30)\n",
    "    axes[0].set_title(f\"Histogram '{col}'\")\n",
    "    axes[0].axvline(df[col].mean(), color = 'red', linestyle = 'dashed', label = 'mean')\n",
    "    axes[0].axvline(df[col].median(), color = 'green', linestyle = 'dashed', label = 'median')\n",
    "    axes[0].legend()\n",
    "    \n",
    "    # boxplot\n",
    "    sns.boxplot(y=df[col], ax =  axes[1])\n",
    "    axes[1].set_title(f\"Boxplot '{col}'\")\n",
    "    \n",
    "    plt.show()\n",
    "    \n",
    "    # skewness\n",
    "    print(df[col].name + ' Kurtosis: ' + str(df[col].kurt()))\n",
    "    print(df[col].name + ' Skewness: ' + str(df[col].skew()))\n",
    "    if -0.5 <= df[col].skew() <= 0.5:\n",
    "        print(\"Columns '{}' is normal distribution\".format(col))\n",
    "    elif df[col].skew() > 0.5:\n",
    "        print(\"Columns '{}' is right skewed\".format(col))\n",
    "    elif df[col].skew() < -0.5:\n",
    "        print(\"Columns '{}' is left skewed\".format(col))\n",
    "\n",
    "#plotting the distribution data of limit_balance\n",
    "plot_dist(data_train, 'creatinine_phosphokinase')"
   ]
  },
  {
   "cell_type": "markdown",
   "metadata": {},
   "source": [
    "4.12 Insight from platelets\n",
    "- It seems that the data have outlliers if we see the boxplot.\n",
    "- Yet, from medical report that have 500000 platelets is still OK. Even for sume of people it can be 6000000\n",
    "- However, since it's the medical number I won't handle the outliers."
   ]
  },
  {
   "cell_type": "code",
   "execution_count": 15,
   "metadata": {},
   "outputs": [
    {
     "data": {
      "image/png": "[encoded data removed]",
      "text/plain": [
       "<Figure size 1080x360 with 2 Axes>"
      ]
     },
     "metadata": {},
     "output_type": "display_data"
    },
    {
     "name": "stdout",
     "output_type": "stream",
     "text": [
      "platelets Kurtosis: 7.170961115207354\n",
      "platelets Skewness: 1.6607869759548701\n",
      "Columns 'platelets' is right skewed\n"
     ]
    }
   ],
   "source": [
    "plot_dist(data_train, 'platelets')"
   ]
  },
  {
   "cell_type": "markdown",
   "metadata": {},
   "source": [
    "4.13 Insight from correlation Heatmap Matrix\n",
    "- Here I try to see correlation between the features and target using HeatMap Correlation matrix.\n",
    "- It seems the all features have correlation.\n",
    "- The highest is time, and following by serum creatinine, ejection fraction.\n",
    "- We can't rely 100% with this matrix for the category, thus we need see it further with the KBest with later."
   ]
  },
  {
   "cell_type": "code",
   "execution_count": 16,
   "metadata": {},
   "outputs": [
    {
     "data": {
      "text/plain": [
       "<AxesSubplot:>"
      ]
     },
     "execution_count": 16,
     "metadata": {},
     "output_type": "execute_result"
    },
    {
     "data": {
      "image/png": "[encoded data removed]",
      "text/plain": [
       "<Figure size 864x504 with 2 Axes>"
      ]
     },
     "metadata": {},
     "output_type": "display_data"
    }
   ],
   "source": [
    "fig, ax = plt.subplots(figsize=(12, 7))\n",
    "sns.heatmap(data_train.corr(), annot=True, fmt='.2')"
   ]
  },
  {
   "cell_type": "markdown",
   "metadata": {},
   "source": [
    "4.14 Checking the target class distribution.\n",
    "- Here, the target of our dataset is column DEATH_EVENT.\n",
    "- The class is imbalance, but it's still moderate imbalance because the difference between class 0 than class 1 is 50%.\n",
    "- Thus, I don't handle the imbalance dataa and proceed as it is."
   ]
  },
  {
   "cell_type": "code",
   "execution_count": 17,
   "metadata": {},
   "outputs": [
    {
     "data": {
      "text/plain": [
       "<AxesSubplot:xlabel='DEATH_EVENT', ylabel='count'>"
      ]
     },
     "execution_count": 17,
     "metadata": {},
     "output_type": "execute_result"
    },
    {
     "data": {
      "image/png": "[encoded data removed]",
      "text/plain": [
       "<Figure size 432x288 with 1 Axes>"
      ]
     },
     "metadata": {},
     "output_type": "display_data"
    }
   ],
   "source": [
    "sns.countplot(data=data_train, x='DEATH_EVENT')"
   ]
  },
  {
   "cell_type": "markdown",
   "metadata": {},
   "source": [
    "____"
   ]
  },
  {
   "cell_type": "markdown",
   "metadata": {},
   "source": [
    "# 5. FEATURE ENGINEER & SELECTION"
   ]
  },
  {
   "cell_type": "markdown",
   "metadata": {},
   "source": [
    "5.1 Splitting data train & dev\n",
    "- Here I split the data train and dev.\n",
    "- Now, the data train shape is 190 rows."
   ]
  },
  {
   "cell_type": "code",
   "execution_count": 18,
   "metadata": {},
   "outputs": [
    {
     "name": "stdout",
     "output_type": "stream",
     "text": [
      "The new shape of our data train is  (190, 13)\n"
     ]
    },
    {
     "data": {
      "text/html": [
       "<div>\n",
       "<style scoped>\n",
       "    .dataframe tbody tr th:only-of-type {\n",
       "        vertical-align: middle;\n",
       "    }\n",
       "\n",
       "    .dataframe tbody tr th {\n",
       "        vertical-align: top;\n",
       "    }\n",
       "\n",
       "    .dataframe thead th {\n",
       "        text-align: right;\n",
       "    }\n",
       "</style>\n",
       "<table border=\"1\" class=\"dataframe\">\n",
       "  <thead>\n",
       "    <tr style=\"text-align: right;\">\n",
       "      <th></th>\n",
       "      <th>age</th>\n",
       "      <th>anaemia</th>\n",
       "      <th>creatinine_phosphokinase</th>\n",
       "      <th>diabetes</th>\n",
       "      <th>ejection_fraction</th>\n",
       "      <th>high_blood_pressure</th>\n",
       "      <th>platelets</th>\n",
       "      <th>serum_creatinine</th>\n",
       "      <th>serum_sodium</th>\n",
       "      <th>sex</th>\n",
       "      <th>smoking</th>\n",
       "      <th>time</th>\n",
       "      <th>DEATH_EVENT</th>\n",
       "    </tr>\n",
       "  </thead>\n",
       "  <tbody>\n",
       "    <tr>\n",
       "      <th>294</th>\n",
       "      <td>63.0</td>\n",
       "      <td>1</td>\n",
       "      <td>122</td>\n",
       "      <td>1</td>\n",
       "      <td>60</td>\n",
       "      <td>0</td>\n",
       "      <td>267000.0</td>\n",
       "      <td>1.2</td>\n",
       "      <td>145</td>\n",
       "      <td>1</td>\n",
       "      <td>0</td>\n",
       "      <td>147</td>\n",
       "      <td>0</td>\n",
       "    </tr>\n",
       "    <tr>\n",
       "      <th>31</th>\n",
       "      <td>65.0</td>\n",
       "      <td>1</td>\n",
       "      <td>335</td>\n",
       "      <td>0</td>\n",
       "      <td>35</td>\n",
       "      <td>1</td>\n",
       "      <td>235000.0</td>\n",
       "      <td>0.8</td>\n",
       "      <td>136</td>\n",
       "      <td>0</td>\n",
       "      <td>0</td>\n",
       "      <td>120</td>\n",
       "      <td>0</td>\n",
       "    </tr>\n",
       "    <tr>\n",
       "      <th>53</th>\n",
       "      <td>45.0</td>\n",
       "      <td>0</td>\n",
       "      <td>582</td>\n",
       "      <td>0</td>\n",
       "      <td>38</td>\n",
       "      <td>1</td>\n",
       "      <td>422000.0</td>\n",
       "      <td>0.8</td>\n",
       "      <td>137</td>\n",
       "      <td>0</td>\n",
       "      <td>0</td>\n",
       "      <td>245</td>\n",
       "      <td>0</td>\n",
       "    </tr>\n",
       "    <tr>\n",
       "      <th>260</th>\n",
       "      <td>59.0</td>\n",
       "      <td>1</td>\n",
       "      <td>129</td>\n",
       "      <td>0</td>\n",
       "      <td>45</td>\n",
       "      <td>1</td>\n",
       "      <td>362000.0</td>\n",
       "      <td>1.1</td>\n",
       "      <td>139</td>\n",
       "      <td>1</td>\n",
       "      <td>1</td>\n",
       "      <td>121</td>\n",
       "      <td>0</td>\n",
       "    </tr>\n",
       "    <tr>\n",
       "      <th>125</th>\n",
       "      <td>68.0</td>\n",
       "      <td>1</td>\n",
       "      <td>577</td>\n",
       "      <td>0</td>\n",
       "      <td>25</td>\n",
       "      <td>1</td>\n",
       "      <td>166000.0</td>\n",
       "      <td>1.0</td>\n",
       "      <td>138</td>\n",
       "      <td>1</td>\n",
       "      <td>0</td>\n",
       "      <td>43</td>\n",
       "      <td>1</td>\n",
       "    </tr>\n",
       "  </tbody>\n",
       "</table>\n",
       "</div>"
      ],
      "text/plain": [
       "      age  anaemia  creatinine_phosphokinase  diabetes  ejection_fraction  \\\n",
       "294  63.0        1                       122         1                 60   \n",
       "31   65.0        1                       335         0                 35   \n",
       "53   45.0        0                       582         0                 38   \n",
       "260  59.0        1                       129         0                 45   \n",
       "125  68.0        1                       577         0                 25   \n",
       "\n",
       "     high_blood_pressure  platelets  serum_creatinine  serum_sodium  sex  \\\n",
       "294                    0   267000.0               1.2           145    1   \n",
       "31                     1   235000.0               0.8           136    0   \n",
       "53                     1   422000.0               0.8           137    0   \n",
       "260                    1   362000.0               1.1           139    1   \n",
       "125                    1   166000.0               1.0           138    1   \n",
       "\n",
       "     smoking  time  DEATH_EVENT  \n",
       "294        0   147            0  \n",
       "31         0   120            0  \n",
       "53         0   245            0  \n",
       "260        1   121            0  \n",
       "125        0    43            1  "
      ]
     },
     "execution_count": 18,
     "metadata": {},
     "output_type": "execute_result"
    }
   ],
   "source": [
    "#splitting the data train and test\n",
    "train, dev  = train_test_split(data_train, train_size=0.8, random_state=31397, stratify=data_train['DEATH_EVENT'])\n",
    "print('The new shape of our data train is ', train.shape)\n",
    "train.head()"
   ]
  },
  {
   "cell_type": "markdown",
   "metadata": {},
   "source": [
    "5.2 Feature Selection with K-Best\n",
    "- Here I use KBest to calculate the number of correlatiion between features and target.\n",
    "- The features that show high correlation are time : 63.0, ejection_fraction : 21.0, serum_creatinine : 19.0, serum_sodium : 5.0, age : 4.0.\n",
    "- I will use those features, and exclude others."
   ]
  },
  {
   "cell_type": "code",
   "execution_count": 19,
   "metadata": {},
   "outputs": [
    {
     "data": {
      "text/plain": [
       "time                        63.0\n",
       "ejection_fraction           21.0\n",
       "serum_creatinine            19.0\n",
       "serum_sodium                 5.0\n",
       "age                          4.0\n",
       "platelets                    1.0\n",
       "anaemia                      0.0\n",
       "creatinine_phosphokinase     0.0\n",
       "diabetes                     0.0\n",
       "high_blood_pressure          0.0\n",
       "sex                          0.0\n",
       "smoking                      0.0\n",
       "dtype: float64"
      ]
     },
     "execution_count": 19,
     "metadata": {},
     "output_type": "execute_result"
    }
   ],
   "source": [
    "from sklearn.feature_selection import SelectKBest\n",
    "\n",
    "# k = 4 tells four top features to be selected\n",
    "# Score function Chi2 tells the feature to be selected using Chi Square\n",
    "K_best = SelectKBest(k=4)\n",
    "train_K_best = K_best.fit(train.drop(columns='DEATH_EVENT', axis=1), train['DEATH_EVENT'])\n",
    "K_best_scores = np.round_(train_K_best.scores_)\n",
    "\n",
    "# assign to data frame and make the descending index\n",
    "df_K_best_Scores = pd.Series(K_best_scores)\n",
    "df_K_best_Scores.index = train.drop(columns='DEATH_EVENT', axis=1).columns\n",
    "df_K_best_Scores.sort_values(ascending=False)"
   ]
  },
  {
   "cell_type": "markdown",
   "metadata": {},
   "source": [
    "**PRE-PROCESS TRAIN**"
   ]
  },
  {
   "cell_type": "markdown",
   "metadata": {},
   "source": [
    "5.3 Selecting the column based on K-Best"
   ]
  },
  {
   "cell_type": "code",
   "execution_count": 20,
   "metadata": {},
   "outputs": [],
   "source": [
    "X_train = train[['time', 'ejection_fraction', 'serum_creatinine', 'serum_sodium', 'age']]\n",
    "y_train = train['DEATH_EVENT']"
   ]
  },
  {
   "cell_type": "markdown",
   "metadata": {},
   "source": [
    "**PRE-PROCESS DEV**"
   ]
  },
  {
   "cell_type": "code",
   "execution_count": 21,
   "metadata": {},
   "outputs": [],
   "source": [
    "X_dev = dev[['time', 'ejection_fraction', 'serum_creatinine', 'serum_sodium', 'age']]\n",
    "y_dev = dev['DEATH_EVENT']"
   ]
  },
  {
   "cell_type": "markdown",
   "metadata": {},
   "source": [
    "5.4 Note for the scaling and encoding\n",
    "- Since in this project I will use Random Forest and XGBoost, I don't need to scaling the number columns.\n",
    "- Also, since the selected features don't have category columns (I exclude them since they don't have strong correlation, and also to avoid high variance), I don't use encoding method."
   ]
  },
  {
   "cell_type": "markdown",
   "metadata": {},
   "source": [
    "____"
   ]
  },
  {
   "cell_type": "markdown",
   "metadata": {},
   "source": [
    "# **RANDOM FOREST**"
   ]
  },
  {
   "cell_type": "markdown",
   "metadata": {},
   "source": [
    "# 6. MODEL DEFINITION OF RANDOM FOREST"
   ]
  },
  {
   "cell_type": "markdown",
   "metadata": {},
   "source": [
    "6.1 Defining model\n",
    "- Here I set the hyper-parameter to max_depth=15, so all the leaves won't be pure and the model won't be over-fitting."
   ]
  },
  {
   "cell_type": "code",
   "execution_count": 22,
   "metadata": {},
   "outputs": [
    {
     "data": {
      "text/plain": [
       "RandomForestClassifier(max_depth=15, random_state=975)"
      ]
     },
     "execution_count": 22,
     "metadata": {},
     "output_type": "execute_result"
    }
   ],
   "source": [
    "from sklearn.ensemble import RandomForestClassifier\n",
    "\n",
    "model_random_forest = RandomForestClassifier(max_depth=15, random_state=975)\n",
    "model_random_forest.fit(X_train, y_train)"
   ]
  },
  {
   "cell_type": "markdown",
   "metadata": {},
   "source": [
    "___"
   ]
  },
  {
   "cell_type": "markdown",
   "metadata": {},
   "source": [
    "# 7. MODEL EVALUATION OF RANDOM FOREST"
   ]
  },
  {
   "cell_type": "markdown",
   "metadata": {},
   "source": [
    "7.1 Predict the data using Random Forest model.\n",
    "- Here I predict the data train & dev with random forest.\n",
    "- I also use predict proba to see the ROC AUC score.\n",
    "- Since the target class is imbalance I won't use accuracy score."
   ]
  },
  {
   "cell_type": "code",
   "execution_count": 23,
   "metadata": {},
   "outputs": [],
   "source": [
    "y_train_predict_random_forest = model_random_forest.predict(X_train)\n",
    "y_train_predict_proba_random_forest = model_random_forest.predict_proba(X_train)\n",
    "\n",
    "y_dev_predict_random_forest = model_random_forest.predict(X_dev)\n",
    "y_dev_predict_proba_random_forest = model_random_forest.predict_proba(X_dev)"
   ]
  },
  {
   "cell_type": "markdown",
   "metadata": {},
   "source": [
    "7.2 Score Evaluation\n",
    "- Train's ROC AUC score is 1, which means the model can distinguish perfectly the class 0 & 1.\n",
    "- With Dev's ROC AUC score is 0.88, it means our model is under-fit.\n",
    "- If we see the F1-Score, model also can predict all the data for train.\n",
    "- But, for dev have 0.86 for class 0, and 0.73 for class 1.\n",
    "- The F1 score also indicate that our model is over-fit.\n",
    "- Our model can predict the class 0 better than 1 in dev, because imbalance class target in data train."
   ]
  },
  {
   "cell_type": "code",
   "execution_count": 24,
   "metadata": {},
   "outputs": [
    {
     "name": "stdout",
     "output_type": "stream",
     "text": [
      "ROC AUC score train :  1.0\n",
      "ROC AUC score dev :  0.88671875\n",
      "RADOM FORESTCLASSIFIER \n",
      "               precision    recall  f1-score   support\n",
      "\n",
      "           0       1.00      1.00      1.00       129\n",
      "           1       1.00      1.00      1.00        61\n",
      "\n",
      "    accuracy                           1.00       190\n",
      "   macro avg       1.00      1.00      1.00       190\n",
      "weighted avg       1.00      1.00      1.00       190\n",
      "\n",
      "RADOM FORESTCLASSIFIER \n",
      "               precision    recall  f1-score   support\n",
      "\n",
      "           0       0.87      0.84      0.86        32\n",
      "           1       0.71      0.75      0.73        16\n",
      "\n",
      "    accuracy                           0.81        48\n",
      "   macro avg       0.79      0.80      0.79        48\n",
      "weighted avg       0.82      0.81      0.81        48\n",
      "\n"
     ]
    }
   ],
   "source": [
    "from sklearn.metrics import classification_report, roc_auc_score\n",
    "\n",
    "print('ROC AUC score train : ', roc_auc_score(y_train, y_train_predict_proba_random_forest[:, 1]))\n",
    "print('ROC AUC score dev : ', roc_auc_score(y_dev, y_dev_predict_proba_random_forest[:, 1]))\n",
    "\n",
    "print('RADOM FORESTCLASSIFIER \\n', classification_report(y_train, y_train_predict_random_forest))\n",
    "print('RADOM FORESTCLASSIFIER \\n', classification_report(y_dev, y_dev_predict_random_forest))"
   ]
  },
  {
   "cell_type": "markdown",
   "metadata": {},
   "source": [
    "____"
   ]
  },
  {
   "cell_type": "markdown",
   "metadata": {},
   "source": [
    "# 8. MODEL IMPROVEMENT OF RANDOM FOREST"
   ]
  },
  {
   "cell_type": "markdown",
   "metadata": {},
   "source": [
    "8.1 Defining hyper-parameter for improved model\n",
    "- Here I set the max_depth to 30, to explore whether the model can be better to distinguish the class for dev.\n",
    "- To balance it, I set the min_samples_splits to 3, reduce the over-fitting of the model.\n",
    "- Then fit the model with data train once again."
   ]
  },
  {
   "cell_type": "code",
   "execution_count": 25,
   "metadata": {},
   "outputs": [
    {
     "data": {
      "text/plain": [
       "RandomForestClassifier(max_depth=30, min_samples_split=3, random_state=975)"
      ]
     },
     "execution_count": 25,
     "metadata": {},
     "output_type": "execute_result"
    }
   ],
   "source": [
    "from sklearn.ensemble import RandomForestClassifier\n",
    "\n",
    "model_random_forest_improve = RandomForestClassifier(max_depth=30, min_samples_split=3, random_state=975)\n",
    "model_random_forest_improve.fit(X_train, y_train)"
   ]
  },
  {
   "cell_type": "markdown",
   "metadata": {},
   "source": [
    "8.2 Predict the data train and dev using improved model."
   ]
  },
  {
   "cell_type": "code",
   "execution_count": 26,
   "metadata": {},
   "outputs": [],
   "source": [
    "y_train_predict_random_forest_improve = model_random_forest_improve.predict(X_train)\n",
    "y_train_predict_proba_random_forest_improve = model_random_forest_improve.predict_proba(X_train)\n",
    "\n",
    "y_dev_predict_random_forest_improve = model_random_forest_improve.predict(X_dev)\n",
    "y_dev_predict_proba_random_forest_improve = model_random_forest_improve.predict_proba(X_dev)"
   ]
  },
  {
   "cell_type": "markdown",
   "metadata": {},
   "source": [
    "8.3 Evaluation Score of Improved Model\n",
    "- The ROC AUC train is lower, but dev is higher. It means the model works better than before.\n",
    "- It's still over-fit but the gap is lower.\n",
    "- It's also the same with F1-score. The score for dev is getting better than before.\n",
    "- Even, the model is still over-fit, but we can say we're success to make the model work better by set change the hyper-parameter."
   ]
  },
  {
   "cell_type": "code",
   "execution_count": 27,
   "metadata": {},
   "outputs": [
    {
     "name": "stdout",
     "output_type": "stream",
     "text": [
      "ROC AUC score train :  0.9998729190494344\n",
      "ROC AUC score dev :  0.9013671875\n",
      "RANDOM FOREST CLASSIFIER \n",
      "               precision    recall  f1-score   support\n",
      "\n",
      "           0       1.00      0.99      1.00       129\n",
      "           1       0.98      1.00      0.99        61\n",
      "\n",
      "    accuracy                           0.99       190\n",
      "   macro avg       0.99      1.00      0.99       190\n",
      "weighted avg       0.99      0.99      0.99       190\n",
      "\n",
      "RANDOM FOREST CLASSIFIER \n",
      "               precision    recall  f1-score   support\n",
      "\n",
      "           0       0.88      0.88      0.88        32\n",
      "           1       0.75      0.75      0.75        16\n",
      "\n",
      "    accuracy                           0.83        48\n",
      "   macro avg       0.81      0.81      0.81        48\n",
      "weighted avg       0.83      0.83      0.83        48\n",
      "\n"
     ]
    }
   ],
   "source": [
    "from sklearn.metrics import classification_report, accuracy_score, roc_auc_score\n",
    "\n",
    "print('ROC AUC score train : ', roc_auc_score(y_train, y_train_predict_proba_random_forest_improve[:, 1]))\n",
    "print('ROC AUC score dev : ', roc_auc_score(y_dev, y_dev_predict_proba_random_forest_improve[:, 1]))\n",
    "\n",
    "print('RANDOM FOREST CLASSIFIER \\n', classification_report(y_train, y_train_predict_random_forest_improve))\n",
    "print('RANDOM FOREST CLASSIFIER \\n', classification_report(y_dev, y_dev_predict_random_forest_improve))"
   ]
  },
  {
   "cell_type": "markdown",
   "metadata": {},
   "source": [
    "_____"
   ]
  },
  {
   "cell_type": "markdown",
   "metadata": {},
   "source": [
    "# **ADABOOST**"
   ]
  },
  {
   "cell_type": "markdown",
   "metadata": {},
   "source": [
    "# 9. MODEL DEFINITON OF ADABOOST"
   ]
  },
  {
   "cell_type": "markdown",
   "metadata": {},
   "source": [
    "9.1 Defining the model\n",
    "- Here I define the model with hyper-parameter of estimator 200, just to explore how the model work with the data."
   ]
  },
  {
   "cell_type": "code",
   "execution_count": 28,
   "metadata": {},
   "outputs": [
    {
     "name": "stdout",
     "output_type": "stream",
     "text": [
      "[21:32:42] WARNING: /var/folders/sy/f16zz6x50xz3113nwtb9bvq00000gp/T/abs_44tbtwf8c1/croots/recipe/xgboost-split_1659548960882/work/src/learner.cc:1115: Starting in XGBoost 1.3.0, the default evaluation metric used with the objective 'binary:logistic' was changed from 'error' to 'logloss'. Explicitly set eval_metric if you'd like to restore the old behavior.\n"
     ]
    },
    {
     "name": "stderr",
     "output_type": "stream",
     "text": [
      "/opt/anaconda3/lib/python3.9/site-packages/xgboost/compat.py:36: FutureWarning: pandas.Int64Index is deprecated and will be removed from pandas in a future version. Use pandas.Index with the appropriate dtype instead.\n",
      "  from pandas import MultiIndex, Int64Index\n",
      "/opt/anaconda3/lib/python3.9/site-packages/xgboost/sklearn.py:1224: UserWarning: The use of label encoder in XGBClassifier is deprecated and will be removed in a future release. To remove this warning, do the following: 1) Pass option use_label_encoder=False when constructing XGBClassifier object; and 2) Encode your labels (y) as integers starting with 0, i.e. 0, 1, 2, ..., [num_class - 1].\n",
      "  warnings.warn(label_encoder_deprecation_msg, UserWarning)\n",
      "/opt/anaconda3/lib/python3.9/site-packages/xgboost/data.py:250: FutureWarning: pandas.Int64Index is deprecated and will be removed from pandas in a future version. Use pandas.Index with the appropriate dtype instead.\n",
      "  elif isinstance(data.columns, (pd.Int64Index, pd.RangeIndex)):\n"
     ]
    },
    {
     "data": {
      "text/plain": [
       "XGBClassifier(base_score=0.5, booster='gbtree', colsample_bylevel=1,\n",
       "              colsample_bynode=1, colsample_bytree=1, enable_categorical=False,\n",
       "              gamma=0, gpu_id=-1, importance_type=None,\n",
       "              interaction_constraints='', learning_rate=0.300000012,\n",
       "              max_delta_step=0, max_depth=6, min_child_weight=1, missing=nan,\n",
       "              monotone_constraints='()', n_estimators=200, n_jobs=8,\n",
       "              num_parallel_tree=1, predictor='auto', random_state=42,\n",
       "              reg_alpha=0, reg_lambda=1, scale_pos_weight=1, subsample=1,\n",
       "              tree_method='exact', validate_parameters=1, verbosity=None)"
      ]
     },
     "execution_count": 28,
     "metadata": {},
     "output_type": "execute_result"
    }
   ],
   "source": [
    "from xgboost import XGBClassifier\n",
    "\n",
    "model_xgboost = XGBClassifier(n_estimators=200, random_state=42)\n",
    "model_xgboost.fit(X_train, y_train)"
   ]
  },
  {
   "cell_type": "markdown",
   "metadata": {},
   "source": [
    "____"
   ]
  },
  {
   "cell_type": "markdown",
   "metadata": {},
   "source": [
    "# 10. MODEL EVALUATION OF XGBOOST"
   ]
  },
  {
   "cell_type": "markdown",
   "metadata": {},
   "source": [
    "10.1 Predicting the data train and dev using XGBoost model."
   ]
  },
  {
   "cell_type": "code",
   "execution_count": 29,
   "metadata": {},
   "outputs": [],
   "source": [
    "y_train_predict_xgboost = model_xgboost.predict(X_train)\n",
    "y_train_predict_proba_xgboost = model_xgboost.predict_proba(X_train)\n",
    "\n",
    "y_dev_predict_xgboost = model_xgboost.predict(X_dev)\n",
    "y_dev_predict_proba_xgboost = model_xgboost.predict_proba(X_dev)"
   ]
  },
  {
   "cell_type": "markdown",
   "metadata": {},
   "source": [
    "10.2 Evaluation score\n",
    "- ROC AUC train is 1, which means the model can distinguish perfectly the class 0 & 1 in data train. This is the same with Random Forest before improvement.\n",
    "- ROC AUC dev is a bit worse than Random Forest. This also means the model is stiill over-fit.\n",
    "- The F1 score dev is worse than F1 score from Random Forest, both before and after improvement.\n",
    "- Perhaps we can set the hyper-parameter to improve our XGBoost model."
   ]
  },
  {
   "cell_type": "code",
   "execution_count": 30,
   "metadata": {},
   "outputs": [
    {
     "name": "stdout",
     "output_type": "stream",
     "text": [
      "ROC AUC score train :  1.0\n",
      "ROC AUC score dev :  0.85546875\n",
      "XG BOOST \n",
      "               precision    recall  f1-score   support\n",
      "\n",
      "           0       1.00      1.00      1.00       129\n",
      "           1       1.00      1.00      1.00        61\n",
      "\n",
      "    accuracy                           1.00       190\n",
      "   macro avg       1.00      1.00      1.00       190\n",
      "weighted avg       1.00      1.00      1.00       190\n",
      "\n",
      "AXG BOOST \n",
      "               precision    recall  f1-score   support\n",
      "\n",
      "           0       0.87      0.81      0.84        32\n",
      "           1       0.67      0.75      0.71        16\n",
      "\n",
      "    accuracy                           0.79        48\n",
      "   macro avg       0.77      0.78      0.77        48\n",
      "weighted avg       0.80      0.79      0.79        48\n",
      "\n"
     ]
    }
   ],
   "source": [
    "print('ROC AUC score train : ', roc_auc_score(y_train, y_train_predict_proba_xgboost[:, 1]))\n",
    "print('ROC AUC score dev : ', roc_auc_score(y_dev, y_dev_predict_proba_xgboost[:, 1]))\n",
    "\n",
    "print('XG BOOST \\n', classification_report(y_train, y_train_predict_xgboost))\n",
    "print('AXG BOOST \\n', classification_report(y_dev, y_dev_predict_xgboost))"
   ]
  },
  {
   "cell_type": "markdown",
   "metadata": {},
   "source": [
    "_____"
   ]
  },
  {
   "cell_type": "markdown",
   "metadata": {},
   "source": [
    "# 11. MODEL IMPROVEMENT OF XGBOOST"
   ]
  },
  {
   "cell_type": "markdown",
   "metadata": {},
   "source": [
    "11.1 Defining the model improvement\n",
    "- Here I set the subsample to 0.1 means that XGBoost would randomly sample half of the training data prior to growing trees and this will prevent overfitting.\n",
    "- eta is setted to 0.6 to reduce the over-fitting as well, since the default number is 0.3. With this eta will shrink the feature weights to make the boosting process more conservative."
   ]
  },
  {
   "cell_type": "code",
   "execution_count": 31,
   "metadata": {},
   "outputs": [
    {
     "name": "stdout",
     "output_type": "stream",
     "text": [
      "[21:32:43] WARNING: /var/folders/sy/f16zz6x50xz3113nwtb9bvq00000gp/T/abs_44tbtwf8c1/croots/recipe/xgboost-split_1659548960882/work/src/learner.cc:1115: Starting in XGBoost 1.3.0, the default evaluation metric used with the objective 'binary:logistic' was changed from 'error' to 'logloss'. Explicitly set eval_metric if you'd like to restore the old behavior.\n"
     ]
    },
    {
     "name": "stderr",
     "output_type": "stream",
     "text": [
      "/opt/anaconda3/lib/python3.9/site-packages/xgboost/sklearn.py:1224: UserWarning: The use of label encoder in XGBClassifier is deprecated and will be removed in a future release. To remove this warning, do the following: 1) Pass option use_label_encoder=False when constructing XGBClassifier object; and 2) Encode your labels (y) as integers starting with 0, i.e. 0, 1, 2, ..., [num_class - 1].\n",
      "  warnings.warn(label_encoder_deprecation_msg, UserWarning)\n",
      "/opt/anaconda3/lib/python3.9/site-packages/xgboost/data.py:250: FutureWarning: pandas.Int64Index is deprecated and will be removed from pandas in a future version. Use pandas.Index with the appropriate dtype instead.\n",
      "  elif isinstance(data.columns, (pd.Int64Index, pd.RangeIndex)):\n"
     ]
    },
    {
     "data": {
      "text/plain": [
       "XGBClassifier(base_score=0.5, booster='gbtree', colsample_bylevel=1,\n",
       "              colsample_bynode=1, colsample_bytree=1, enable_categorical=False,\n",
       "              eta=0.6, gamma=0, gpu_id=-1, importance_type=None,\n",
       "              interaction_constraints='', learning_rate=0.600000024,\n",
       "              max_delta_step=0, max_depth=3, min_child_weight=1, missing=nan,\n",
       "              monotone_constraints='()', n_estimators=100, n_jobs=8,\n",
       "              num_parallel_tree=1, predictor='auto', random_state=42,\n",
       "              reg_alpha=0, reg_lambda=1, scale_pos_weight=1, subsample=0.1,\n",
       "              tree_method='exact', validate_parameters=1, verbosity=None)"
      ]
     },
     "execution_count": 31,
     "metadata": {},
     "output_type": "execute_result"
    }
   ],
   "source": [
    "from xgboost import XGBClassifier\n",
    "\n",
    "model_xgboost_improve = XGBClassifier(eta=0.6, subsample=0.1, max_depth=3, n_estimators=100, random_state=42)\n",
    "model_xgboost_improve.fit(X_train, y_train)"
   ]
  },
  {
   "cell_type": "markdown",
   "metadata": {},
   "source": [
    "11.2 Predict the data train & dev using the improved model of XGBoost"
   ]
  },
  {
   "cell_type": "code",
   "execution_count": 32,
   "metadata": {},
   "outputs": [],
   "source": [
    "y_train_predict_xgboost_improve = model_xgboost_improve.predict(X_train)\n",
    "y_train_predict_proba_xgboost_improve = model_xgboost_improve.predict_proba(X_train)\n",
    "\n",
    "y_dev_predict_xgboost_imppove = model_xgboost_improve.predict(X_dev)\n",
    "y_dev_predict_proba_xgboost_improve = model_xgboost_improve.predict_proba(X_dev)"
   ]
  },
  {
   "cell_type": "markdown",
   "metadata": {},
   "source": [
    "11.3 Evaluation score\n",
    "- ROC AUC score both train and dev are lower than before, but the gap between them lower.\n",
    "- Eventhough, it's still over-fitting but it's better than before.\n",
    "- The F1 score for dev improves wuite significant, even not it's higher than improved Random Forest model.\n",
    "- Here, even the model still over-fit, we could say that we're success to make model work better by changing the hyper-parameter."
   ]
  },
  {
   "cell_type": "code",
   "execution_count": 33,
   "metadata": {},
   "outputs": [
    {
     "name": "stdout",
     "output_type": "stream",
     "text": [
      "ROC AUC score train :  0.9451010293556996\n",
      "ROC AUC score dev :  0.826171875\n",
      "IMPROVED XG BOOST \n",
      "               precision    recall  f1-score   support\n",
      "\n",
      "           0       0.90      0.94      0.92       129\n",
      "           1       0.85      0.77      0.81        61\n",
      "\n",
      "    accuracy                           0.88       190\n",
      "   macro avg       0.88      0.85      0.86       190\n",
      "weighted avg       0.88      0.88      0.88       190\n",
      "\n",
      "IMPROVED XG BOOST \n",
      "               precision    recall  f1-score   support\n",
      "\n",
      "           0       0.90      0.88      0.89        32\n",
      "           1       0.76      0.81      0.79        16\n",
      "\n",
      "    accuracy                           0.85        48\n",
      "   macro avg       0.83      0.84      0.84        48\n",
      "weighted avg       0.86      0.85      0.86        48\n",
      "\n"
     ]
    }
   ],
   "source": [
    "print('ROC AUC score train : ', roc_auc_score(y_train, y_train_predict_proba_xgboost_improve[:, 1]))\n",
    "print('ROC AUC score dev : ', roc_auc_score(y_dev, y_dev_predict_proba_xgboost_improve[:, 1]))\n",
    "\n",
    "print('IMPROVED XG BOOST \\n', classification_report(y_train, y_train_predict_xgboost_improve))\n",
    "print('IMPROVED XG BOOST \\n', classification_report(y_dev, y_dev_predict_xgboost_imppove))"
   ]
  },
  {
   "cell_type": "markdown",
   "metadata": {},
   "source": [
    "___"
   ]
  },
  {
   "cell_type": "markdown",
   "metadata": {},
   "source": [
    "# 12. APPLICATION TO DATA TEST"
   ]
  },
  {
   "cell_type": "markdown",
   "metadata": {},
   "source": [
    "12.1 Preprocessing the data test"
   ]
  },
  {
   "cell_type": "code",
   "execution_count": 34,
   "metadata": {},
   "outputs": [],
   "source": [
    "X_test = data_test[['time', 'ejection_fraction', 'serum_creatinine', 'serum_sodium', 'age']]\n",
    "y_test = data_test['DEATH_EVENT']"
   ]
  },
  {
   "cell_type": "markdown",
   "metadata": {},
   "source": [
    "12.2 Predict the data test with Random Forest & XGBoost\n",
    "- Here I will use the improved models from both XGBoost and Random Forest since they work better than the default models."
   ]
  },
  {
   "cell_type": "code",
   "execution_count": 35,
   "metadata": {},
   "outputs": [],
   "source": [
    "y_test_predict_xgboost = model_xgboost_improve.predict(X_test)\n",
    "y_test_predict_proba_xgboost = model_xgboost_improve.predict_proba(X_test)\n",
    "\n",
    "y_test_predict_random_forest_improve = model_random_forest_improve.predict(X_test)\n",
    "y_test_predict_proba_random_forest_improve = model_random_forest_improve.predict_proba(X_test)"
   ]
  },
  {
   "cell_type": "markdown",
   "metadata": {},
   "source": [
    "12.3 Evaluation score\n",
    "- The ROC AUC score test is the lower than train for both models.\n",
    "- But, in the XGBoost, ROC AUC score test is better than dev. This doesn't happen in Random Forest model.\n",
    "- We could say it's over-fit for both models based on ROC AUC score.\n",
    "- If we see from F1 score, both models also overfit.\n",
    "- If we compare the F1 score test for both models, we could say that XGboost have better score.\n",
    "- If we look closely, without improvement, the model that have better score in dev is Random forest. However, after we improve and set the hyper-parameter, the XGBoost score is higher than Random Forest."
   ]
  },
  {
   "cell_type": "code",
   "execution_count": 36,
   "metadata": {},
   "outputs": [
    {
     "name": "stdout",
     "output_type": "stream",
     "text": [
      "=============== RANDOM FOREST SCORE ===============\n",
      "IMPROVED RANDOM FOREST ROC AUC SCORE test :  0.8581514762516046\n",
      "IMPROVED RANDOM FOREST ROC AUC SCORE train :  0.9998729190494344\n",
      "IMPROVED RANDOM FOREST ROC AUC SCORE dev :  0.9013671875\n",
      "IMPROVED RANDOM FOREST CLASSIFIER test \n",
      "               precision    recall  f1-score   support\n",
      "\n",
      "           0       0.85      0.85      0.85        41\n",
      "           1       0.68      0.68      0.68        19\n",
      "\n",
      "    accuracy                           0.80        60\n",
      "   macro avg       0.77      0.77      0.77        60\n",
      "weighted avg       0.80      0.80      0.80        60\n",
      "\n",
      "IMPROVED RANDOM FOREST CLASSIFIER train \n",
      "               precision    recall  f1-score   support\n",
      "\n",
      "           0       1.00      0.99      1.00       129\n",
      "           1       0.98      1.00      0.99        61\n",
      "\n",
      "    accuracy                           0.99       190\n",
      "   macro avg       0.99      1.00      0.99       190\n",
      "weighted avg       0.99      0.99      0.99       190\n",
      "\n",
      "IMPROVED RANDOM FOREST CLASSIFIER dev \n",
      "               precision    recall  f1-score   support\n",
      "\n",
      "           0       0.88      0.88      0.88        32\n",
      "           1       0.75      0.75      0.75        16\n",
      "\n",
      "    accuracy                           0.83        48\n",
      "   macro avg       0.81      0.81      0.81        48\n",
      "weighted avg       0.83      0.83      0.83        48\n",
      "\n"
     ]
    }
   ],
   "source": [
    "print('='*15, 'RANDOM FOREST SCORE', '='*15)\n",
    "print('IMPROVED RANDOM FOREST ROC AUC SCORE test : ', roc_auc_score(y_test, y_test_predict_proba_random_forest_improve[:, 1]))\n",
    "print('IMPROVED RANDOM FOREST ROC AUC SCORE train : ', roc_auc_score(y_train, y_train_predict_proba_random_forest_improve[:, 1]))\n",
    "print('IMPROVED RANDOM FOREST ROC AUC SCORE dev : ', roc_auc_score(y_dev, y_dev_predict_proba_random_forest_improve[:, 1]))\n",
    "\n",
    "print('IMPROVED RANDOM FOREST CLASSIFIER test \\n', classification_report(y_test, y_test_predict_random_forest_improve))\n",
    "print('IMPROVED RANDOM FOREST CLASSIFIER train \\n', classification_report(y_train, y_train_predict_random_forest_improve))\n",
    "print('IMPROVED RANDOM FOREST CLASSIFIER dev \\n', classification_report(y_dev, y_dev_predict_random_forest_improve))"
   ]
  },
  {
   "cell_type": "code",
   "execution_count": 37,
   "metadata": {},
   "outputs": [
    {
     "name": "stdout",
     "output_type": "stream",
     "text": [
      "=============== XGBOOST SCORE ===============\n",
      "IMPROVED XGBOOST ROC AUC score test :  0.8562259306803593\n",
      "IMPROVED XGBOOST ROC AUC score train :  0.9451010293556996\n",
      "IMPROVED XGBOOST ROC AUC score dev :  0.826171875\n",
      "IMPROVED XG BOOST test \n",
      "               precision    recall  f1-score   support\n",
      "\n",
      "           0       0.86      0.93      0.89        41\n",
      "           1       0.81      0.68      0.74        19\n",
      "\n",
      "    accuracy                           0.85        60\n",
      "   macro avg       0.84      0.81      0.82        60\n",
      "weighted avg       0.85      0.85      0.85        60\n",
      "\n",
      "IMPROVED XG BOOST train \n",
      "               precision    recall  f1-score   support\n",
      "\n",
      "           0       0.90      0.94      0.92       129\n",
      "           1       0.85      0.77      0.81        61\n",
      "\n",
      "    accuracy                           0.88       190\n",
      "   macro avg       0.88      0.85      0.86       190\n",
      "weighted avg       0.88      0.88      0.88       190\n",
      "\n",
      "IMPROVED XG BOOST dev \n",
      "               precision    recall  f1-score   support\n",
      "\n",
      "           0       0.90      0.88      0.89        32\n",
      "           1       0.76      0.81      0.79        16\n",
      "\n",
      "    accuracy                           0.85        48\n",
      "   macro avg       0.83      0.84      0.84        48\n",
      "weighted avg       0.86      0.85      0.86        48\n",
      "\n"
     ]
    }
   ],
   "source": [
    "print('='*15, 'XGBOOST SCORE', '='*15)\n",
    "print('IMPROVED XGBOOST ROC AUC score test : ', roc_auc_score(y_test, y_test_predict_proba_xgboost[:, 1]))\n",
    "print('IMPROVED XGBOOST ROC AUC score train : ', roc_auc_score(y_train, y_train_predict_proba_xgboost_improve[:, 1]))\n",
    "print('IMPROVED XGBOOST ROC AUC score dev : ', roc_auc_score(y_dev, y_dev_predict_proba_xgboost_improve[:, 1]))\n",
    "\n",
    "print('IMPROVED XG BOOST test \\n', classification_report(y_test, y_test_predict_xgboost))\n",
    "print('IMPROVED XG BOOST train \\n', classification_report(y_train, y_train_predict_xgboost_improve))\n",
    "print('IMPROVED XG BOOST dev \\n', classification_report(y_dev, y_dev_predict_xgboost_imppove))"
   ]
  },
  {
   "cell_type": "markdown",
   "metadata": {},
   "source": [
    "____"
   ]
  },
  {
   "cell_type": "markdown",
   "metadata": {},
   "source": [
    "# 13. MODEL INFERENCE"
   ]
  },
  {
   "cell_type": "markdown",
   "metadata": {},
   "source": [
    "13.1 Pre-processing data inference."
   ]
  },
  {
   "cell_type": "code",
   "execution_count": 38,
   "metadata": {},
   "outputs": [],
   "source": [
    "X_inf = data_inf[['time', 'ejection_fraction', 'serum_creatinine', 'serum_sodium', 'age']]\n",
    "y_inf = data_inf['DEATH_EVENT']"
   ]
  },
  {
   "cell_type": "markdown",
   "metadata": {},
   "source": [
    "13.2 Predicting the data inference and comparing with the actual data.\n",
    "- Since, our best model here is improved XGBoost, we'll predict the data inference with XGBoost.\n",
    "- The predicted class is 0, and the actual class is 0.\n",
    "- It means our model can predict rightly the class of the data inference."
   ]
  },
  {
   "cell_type": "code",
   "execution_count": 39,
   "metadata": {},
   "outputs": [
    {
     "name": "stdout",
     "output_type": "stream",
     "text": [
      "The prediction class of the model : [0]\n",
      "The actual class of the model :  0    0\n",
      "Name: DEATH_EVENT, dtype: int64\n"
     ]
    }
   ],
   "source": [
    "y_inf_predict_xgboost = model_xgboost.predict(X_inf)\n",
    "print('The prediction class of the model :', y_inf_predict_xgboost)\n",
    "print('The actual class of the model : ', y_inf.reset_index(drop=True))"
   ]
  },
  {
   "cell_type": "markdown",
   "metadata": {},
   "source": [
    "___"
   ]
  },
  {
   "cell_type": "markdown",
   "metadata": {},
   "source": [
    "# 14. CONCEPTUAL PROBLEMS\n",
    "\n",
    "1. What is Bagging?\n",
    "- Bagging is one of ensemble machine learnings that takes several weak models, aggregating the predictions to select the best prediction. The weak models specialize in distinct sections of the feature space, which enables bagging leverage predictions to come from every model to reach the utmost purpose.\n",
    "\n",
    "2. What are the differences between Random Forest and XGBoost?\n",
    "- Random Forest consists of a large number of individual and **parallel** decision trees that operate as an ensemble. Each individual tree in the random forest spits out a class prediction and the class with the most votes becomes our model’s prediction. On other hand, XGBoost is an implementation of Gradient Boosted decision trees that created in **sequential** form. The weight of variables predicted wrong by the tree is increased and these variables are then fed to the second decision tree."
   ]
  },
  {
   "cell_type": "markdown",
   "metadata": {},
   "source": [
    "_____"
   ]
  },
  {
   "cell_type": "markdown",
   "metadata": {},
   "source": [
    "# 15. OVERALL CONCLUSION"
   ]
  },
  {
   "cell_type": "markdown",
   "metadata": {},
   "source": [
    "- Random Forest and XGBoost are two models in machine learning that can be used to predict the class of data in classification.\n",
    "- Random Forest and XGBoost are two models from ensemble learning. While Random Forest is a bagging model that work in parallel way, XGBoost is an boosting model that work in sequential way.\n",
    "- We can improve our model by setting the hyper-parameter.\n",
    "- Thus, setting the hyper-parameter is an essential part for building a good model of machine learning.\n",
    "- Our improved XGBoost model can predict with more than 70% of accuracy (89% for class 0, 74% for class 1). \n",
    "- This XGBoost model may be not the best and even and over-fit model, but this we can say that this model is quite good. Perhaps, we can improve the model even more with the appropriate hyper-parameter setting.\n",
    "- On other hand, our Random Forest model can predict with 85% for class 0 and 68% for class 1."
   ]
  }
 ],
 "metadata": {
  "kernelspec": {
   "display_name": "Python 3.9.12 ('base')",
   "language": "python",
   "name": "python3"
  },
  "language_info": {
   "codemirror_mode": {
    "name": "ipython",
    "version": 3
   },
   "file_extension": ".py",
   "mimetype": "text/x-python",
   "name": "python",
   "nbconvert_exporter": "python",
   "pygments_lexer": "ipython3",
   "version": "3.9.12"
  },
  "orig_nbformat": 4,
  "vscode": {
   "interpreter": {
    "hash": "40d3a090f54c6569ab1632332b64b2c03c39dcf918b08424e98f38b5ae0af88f"
   }
  }
 },
 "nbformat": 4,
 "nbformat_minor": 2
}
